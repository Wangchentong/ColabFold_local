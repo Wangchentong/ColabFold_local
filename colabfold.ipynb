{
 "cells": [
  {
   "cell_type": "code",
   "execution_count": null,
   "metadata": {},
   "outputs": [],
   "source": [
    "# pip install -q --no-warn-conflicts -e .[alphafold-minus-jax]"
   ]
  },
  {
   "cell_type": "code",
   "execution_count": 1,
   "metadata": {},
   "outputs": [],
   "source": [
    "import os\n",
    "import argparse\n",
    "from colabfold.batch import get_queries, run\n"
   ]
  },
  {
   "cell_type": "code",
   "execution_count": 2,
   "metadata": {},
   "outputs": [],
   "source": [
    "if __name__ == \"__main__\":\n",
    "    argparser = argparse.ArgumentParser(formatter_class=argparse.ArgumentDefaultsHelpFormatter)\n",
    " \n",
    "    argparser.add_argument(\"--fasta_file\", action=\"store_true\", default=False, help=\"Parse CA-only structures and use CA-only models (default: false)\")   \n",
    "    argparser.add_argument('--num_cycles', default=3, type=int, help='the number of cycles to run alphafold')\n",
    "    argparser.add_argument('--recycle_early_stop_tolerance', default=0.5, type=float, help='the number of cycles to run alphafold')\n",
    "    argparser.add_argument('--models', nargs='+', default=\"1\", help='AlphaFold models to run (1-5)')\n",
    "    argparser.add_argument('--model_type', type=str,default=\"alphafold2_multimer_v3\",choices=[\"alphafold2_ptm\",\"alphafold2_multimer_v3\"])\n",
    "    argparser.add_argument('--max_msa', type=str,default=None,choices=[\"512:1024\", \"256:512\", \"64:128\", \"32:64\", \"16:32\"], help=\"max_msa:max_extra_msa for prediction diversity\")\n",
    "    argparser.add_argument('--output_dir', default='./',type=str, help='the path of output')\n",
    "args = argparser.parse_args(\"\")\n",
    "    "
   ]
  },
  {
   "cell_type": "code",
   "execution_count": 3,
   "metadata": {},
   "outputs": [
    {
     "name": "stdout",
     "output_type": "stream",
     "text": [
      "job name : P22897_dimer\n",
      "query_sequence : LLDTRQFLIYNEDHKRCVDAVSPSAVQTAACNQDAESQKFRWVSESQIMSVAFKLCLGVPSKTDWVAITLYACDSKSEFQKWECKNDTLLGIKGEDLFFNYGNRQEKNIMLYKGSGLWSRWKIYGTTDNLCSRGYEAMYTLLGNANGATCAFPFKFENKWYADCTSAGRSDGWLWCGTTTDYDTDKLFGYCPLKFEGSESLWNKDPLTSVSYQINSKSALTWHQARKSCQQQNAELLSITEIHEQTYLTGLTSSLTSGLWIGLNSLSFNSGWQWSDRSPFRYLNWLPGSPSAEPGKSCVSLNPGKNAKWENLECVQKLGYICKKGNTTLNSFVIPSESDVPTHCPSQWWPYAGHCYKIHRDEKKIQRDALTTCRKEGGDLTSIHTIEELDFIISQLGYEPNDELWIGLNDIKIQMYFEWSDGTPVTFTKWLRGEPSHENNRQEDCVVMKGKDGYWADRGCEWPLGYICKMKSRSQGPEIVEVEKGCRKGWKKHHFYCYMIGHTLSTFAEANQTCNNENAYLTTIEDRYEQAFLTSFVGLRPEKYFWTGLSDIQTKGTFQWTIEEEVRFTHWNSDMPGRKPGCVAMRTGIAGGLWDVLKCDEKAKFVCKHWAEGVTHPPKPTTTPEPKCPEDWGASSRTSLCFKLYAKGKHEKKTWFESRDFCRALGGDLASINNKEEQQTIWRLITASGSYHKLFWLGLTYGSPSEGFTWSDGSPVSYENWAYGEPNNYQNVEYCGELKGDPTMSWNDINCEHLNNWICQIQKGQTPKPEPTPAPQDNPPVTEDGWVIYKDYQYYFSKEKETMDNARAFCKRNFGDLVSIQSESEKKFLWKYVNRNDAQSAYFIGLLISLDKKFAWMDGSKVDYVSWATGEPNFANEDENCVTMYSNSGFWNDINCGYPNAFICQRHNSSINATTVMPTMPSVPSGCKEGWNFYSNKCFKIFGFMEEERKNWQEARKACIGFGGNLVSIQNEKEQAFLTYHMKDSTFSAWTGLNDVNSEHTFLWTDGRGVHYTNWGKGYPGGRRSSLSYEDADCVVIIGGASNEAGKWMDDTCDSKRGYICQTRSDPSLTNPPATIQTDGFVKYGKSSYSLMRQKFQWHEAETYCKLHNSLIASILDPYSNAFAWLQMETSNERVWIALNSNLTDNQYTWTDKWRVRYTNWAADEPKLKSACVYLDLDGYWKTAHCNESFYFLCKRSDEIPATEPPQLPGRCPESDHTAWIPFHGHCYYIESSYTRNWGQASLECLRMGSSLVSIESAAESSFLSYRVEPLKSKTNFWIGLFRNVEGTWLWINNSPVSFVNWNTGDPSGERNDCVALHASSGFWSNIHCSSYKGYICKRPKIIDAKPTHELLTTKADTRKMDPSKPSS\n",
      "length of query_sequence : 1368\n"
     ]
    }
   ],
   "source": [
    "a3m_file = \"/storage/caolongxingLab/wangchentong/software/ColabFold/prediction/P22897_dimer.a3m\"\n",
    "jobname = os.path.basename(a3m_file).split(\".\")[0]\n",
    "queries, is_complex = get_queries(a3m_file)\n",
    "print(f\"job name : {queries[0][0]}\" )\n",
    "print(f\"query_sequence : {queries[0][1]}\" )\n",
    "print(f\"length of query_sequence : {len(queries[0][1])}\")"
   ]
  },
  {
   "cell_type": "code",
   "execution_count": 4,
   "metadata": {},
   "outputs": [],
   "source": [
    "queries, is_complex = get_queries(\"/storage/caolongxingLab/wangchentong/software/ColabFold/prediction/P22897_dimer.a3m\")"
   ]
  },
  {
   "cell_type": "code",
   "execution_count": null,
   "metadata": {},
   "outputs": [],
   "source": [
    "results = run(\n",
    "    queries=queries,\n",
    "    result_dir=jobname,\n",
    "    use_templates=False,\n",
    "    custom_template_path=None,\n",
    "    num_relax=0,\n",
    "    msa_mode=\"custom\",\n",
    "    model_type=\"alphafold2_multimer_v3\",\n",
    "    num_models=5,\n",
    "    num_recycles=3,\n",
    "    relax_max_iterations=200,\n",
    "    recycle_early_stop_tolerance=args.recycle_early_stop_tolerance,\n",
    "    num_seeds=1,\n",
    "    use_dropout=False,\n",
    "    model_order=[1,2,3,4,5],\n",
    "    is_complex=is_complex,\n",
    "    data_dir=\"./alphafold/data/\",\n",
    "    keep_existing_results=False,\n",
    "    rank_by=\"auto\",\n",
    "    max_msa=None,\n",
    "    use_cluster_profile=False if \"multimer\" in args.model_type and args.max_msa is not None else True,\n",
    "    input_features_callback=None,\n",
    "    save_recycles=False,\n",
    "    user_agent=None,\n",
    ")"
   ]
  },
  {
   "cell_type": "code",
   "execution_count": null,
   "metadata": {},
   "outputs": [],
   "source": []
  }
 ],
 "metadata": {
  "kernelspec": {
   "display_name": "se3",
   "language": "python",
   "name": "python3"
  },
  "language_info": {
   "codemirror_mode": {
    "name": "ipython",
    "version": 3
   },
   "file_extension": ".py",
   "mimetype": "text/x-python",
   "name": "python",
   "nbconvert_exporter": "python",
   "pygments_lexer": "ipython3",
   "version": "3.9.15"
  }
 },
 "nbformat": 4,
 "nbformat_minor": 2
}
